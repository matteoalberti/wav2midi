{
 "cells": [
  {
   "cell_type": "code",
   "execution_count": 1,
   "id": "ce0740b0",
   "metadata": {},
   "outputs": [
    {
     "name": "stdout",
     "output_type": "stream",
     "text": [
      "Strumento: Track 1 | Is Drum: False | Num note: 409\n"
     ]
    }
   ],
   "source": [
    "import pretty_midi\n",
    "\n",
    "midi = pretty_midi.PrettyMIDI(\"/Users/matteoalberti/Downloads/Examples/Track1.mid\")\n",
    "for inst in midi.instruments:\n",
    "    print(f\"Strumento: {inst.name} | Is Drum: {inst.is_drum} | Num note: {len(inst.notes)}\")"
   ]
  }
 ],
 "metadata": {
  "kernelspec": {
   "display_name": "wav2midi",
   "language": "python",
   "name": "python3"
  },
  "language_info": {
   "codemirror_mode": {
    "name": "ipython",
    "version": 3
   },
   "file_extension": ".py",
   "mimetype": "text/x-python",
   "name": "python",
   "nbconvert_exporter": "python",
   "pygments_lexer": "ipython3",
   "version": "3.10.12"
  }
 },
 "nbformat": 4,
 "nbformat_minor": 5
}
